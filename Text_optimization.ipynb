{
  "nbformat": 4,
  "nbformat_minor": 0,
  "metadata": {
    "colab": {
      "provenance": []
    },
    "kernelspec": {
      "name": "python3",
      "display_name": "Python 3"
    },
    "language_info": {
      "name": "python"
    }
  },
  "cells": [
    {
      "cell_type": "code",
      "execution_count": 4,
      "metadata": {
        "colab": {
          "base_uri": "https://localhost:8080/"
        },
        "id": "8XJzDC10DarN",
        "outputId": "e95333c8-cf41-49fe-ff70-6386c51f28db"
      },
      "outputs": [
        {
          "output_type": "stream",
          "name": "stdout",
          "text": [
            "ISIN: XS2021832634\n",
            "Issuer: BNP Paribas Arbitrage Issuance B\n"
          ]
        }
      ],
      "source": [
        "#RegEx works on ISIN, ISSUER AND Currency\n",
        "\n",
        "\n",
        "import re\n",
        "\n",
        "def extract_values(text):\n",
        "    patterns = {\n",
        "        \"ISIN\": r\"ISIN:\\s*([A-Za-z0-9]{12})\",\n",
        "        \"Issuer\": r\"Issuer\\s+([A-Za-z\\s]+)\\b\",\n",
        "        \"Currency\": r\"(Settlement Currency|Currency|Currency on Nominal)\\s+([A-Z]{3})\"\n",
        "    }\n",
        "\n",
        "    extracted_values = {}\n",
        "    for key, pattern in patterns.items():\n",
        "        match = re.search(pattern, text)\n",
        "        extracted_values[key] = match.group(1) if match else \"Not Found\"\n",
        "\n",
        "    return extracted_values\n",
        "\n",
        "# Read the file\n",
        "file_path = '/content/XS2021832634_extracted.txt'\n",
        "with open(file_path, 'r') as file:\n",
        "    text_content = file.read()\n",
        "\n",
        "# Extract values\n",
        "values = extract_values(text_content)\n",
        "\n",
        "# Print extracted values\n",
        "for key, value in values.items():\n",
        "    print(f\"{key}: {value}\")\n"
      ]
    },
    {
      "cell_type": "code",
      "source": [
        "#Deleting punctuation\n",
        "\n",
        "import string\n",
        "\n",
        "def remove_punctuation(text):\n",
        "    # Define punctuation characters\n",
        "    punctuations = string.punctuation\n",
        "\n",
        "    # Remove punctuation from the text\n",
        "    cleaned_text = ''.join(char for char in text if char not in punctuations)\n",
        "\n",
        "    return cleaned_text\n",
        "\n",
        "# File names\n",
        "input_file = '/content/XS2021832634_extracted.txt'  # Replace 'input_file.txt' with your file name\n",
        "output_file = 'XS2021832634_extracted.txt'\n",
        "\n",
        "try:\n",
        "    with open(input_file, 'r') as file:\n",
        "        text = file.read()\n",
        "\n",
        "        # Remove punctuation\n",
        "        cleaned_text = remove_punctuation(text)\n",
        "\n",
        "        # Write cleaned text to a new file\n",
        "        with open(output_file, 'w') as output:\n",
        "            output.write(cleaned_text)\n",
        "\n",
        "    print(f\"Punctuation removed and saved to '{output_file}' successfully.\")\n",
        "\n",
        "except FileNotFoundError:\n",
        "    print(\"File not found. Please check the file name or path.\")\n",
        "except Exception as e:\n",
        "    print(f\"An error occurred: {str(e)}\")\n"
      ],
      "metadata": {
        "colab": {
          "base_uri": "https://localhost:8080/"
        },
        "id": "dQFfjY8fPJ_F",
        "outputId": "00b3c33d-7f0a-4b83-dd03-2805cba18967"
      },
      "execution_count": 5,
      "outputs": [
        {
          "output_type": "stream",
          "name": "stdout",
          "text": [
            "Punctuation removed and saved to 'XS2021832634_extracted.txt' successfully.\n"
          ]
        }
      ]
    }
  ]
}